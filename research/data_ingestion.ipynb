{
 "cells": [
  {
   "cell_type": "code",
   "execution_count": 1,
   "metadata": {},
   "outputs": [],
   "source": [
    "import os\n"
   ]
  },
  {
   "cell_type": "code",
   "execution_count": 2,
   "metadata": {},
   "outputs": [
    {
     "data": {
      "text/plain": [
       "'c:\\\\Users\\\\MAINGATE\\\\DEsktop\\\\Maize_disease_classification\\\\end-to-end_mazie_disease_classification\\\\research'"
      ]
     },
     "execution_count": 2,
     "metadata": {},
     "output_type": "execute_result"
    }
   ],
   "source": [
    "%pwd"
   ]
  },
  {
   "cell_type": "code",
   "execution_count": 3,
   "metadata": {},
   "outputs": [],
   "source": [
    "os.chdir('../')"
   ]
  },
  {
   "cell_type": "code",
   "execution_count": 4,
   "metadata": {},
   "outputs": [
    {
     "data": {
      "text/plain": [
       "'c:\\\\Users\\\\MAINGATE\\\\DEsktop\\\\Maize_disease_classification\\\\end-to-end_mazie_disease_classification'"
      ]
     },
     "execution_count": 4,
     "metadata": {},
     "output_type": "execute_result"
    }
   ],
   "source": [
    "%pwd"
   ]
  },
  {
   "cell_type": "code",
   "execution_count": 46,
   "metadata": {},
   "outputs": [],
   "source": [
    "from dataclasses import dataclass\n",
    "from pathlib import Path\n",
    "\n",
    "@dataclass(frozen=True)\n",
    "class DataIngestionConfig:\n",
    "    root_dir: Path\n",
    "    source_URL: str\n",
    "    local_data_file: Path\n",
    "    unzip_dir: Path\n",
    "    source_PATH: Path\n"
   ]
  },
  {
   "cell_type": "code",
   "execution_count": 47,
   "metadata": {},
   "outputs": [],
   "source": [
    "from src.cnnClassifier.constants import *\n",
    "from src.cnnClassifier.utils.common import read_yaml, create_directories"
   ]
  },
  {
   "cell_type": "code",
   "execution_count": 48,
   "metadata": {},
   "outputs": [],
   "source": [
    "class ConfigurationManager:\n",
    "    def __init__(\n",
    "        self,\n",
    "        config_filepath = CONFIG_FILE_PATH,\n",
    "        params_filepath= PARAMS_FILE_PATH):\n",
    "\n",
    "        self.config=read_yaml(config_filepath)\n",
    "        self.params=read_yaml(params_filepath)\n",
    "\n",
    "        create_directories([self.config.artifacts_root])\n",
    "\n",
    "\n",
    "    def get_data_ingestion_config(self) -> DataIngestionConfig:\n",
    "        config=self.config.data_ingestion\n",
    "\n",
    "        create_directories([config.root_dir])\n",
    "        data_ingestion_config= DataIngestionConfig(\n",
    "          root_dir=config.root_dir,\n",
    "          source_URL= config.source_URL,\n",
    "          source_PATH= config.source_PATH,\n",
    "          local_data_file=config.local_data_file,\n",
    "          unzip_dir= config.unzip_dir,\n",
    "          #s3_bucket_name=getattr(config, \"s3_bucket_name\", None),\n",
    "          #s3_file_key=getattr(config, \"s3_file_key\", None)\n",
    "\n",
    "    )\n",
    "\n",
    "        return data_ingestion_config\n"
   ]
  },
  {
   "cell_type": "code",
   "execution_count": 49,
   "metadata": {},
   "outputs": [],
   "source": [
    "import os\n",
    "import urllib.request as request\n",
    "import zipfile\n",
    "import shutil\n",
    "import mmap\n",
    "from src.cnnClassifier import logger\n",
    "from src.cnnClassifier.utils.common import get_size"
   ]
  },
  {
   "cell_type": "code",
   "execution_count": 53,
   "metadata": {},
   "outputs": [],
   "source": [
    "class DataIngestion:\n",
    "    def __init__(self, config:DataIngestionConfig):\n",
    "        self.config=config\n",
    "\n",
    "    def download_file(self):\n",
    "\n",
    "        if not os.path.exists(self.config.local_data_file):\n",
    "            filename, headers= request.url.retrieve(\n",
    "            url=self.config.source_URl,\n",
    "            filname= self.config.local_data_file\n",
    "            )\n",
    "            logger.info(f\"{filename} download! with the following info: \\n{headers}\")\n",
    "\n",
    "        else:\n",
    "            logger.info(f\"File already exists of size: {get_size(Path(self.config.local_data_file))}\")\n",
    "    \n",
    "                      \n",
    "    \"\"\"def download_s3_file(self):\n",
    "          \n",
    "          #Note to use the s3 sdk  install the python 3.7 version for compatibility purpose\n",
    "          \n",
    "          if not os.path.exists(self.config.local_data_file):\n",
    "              s3= boto3.client('s3')\n",
    "              s3.download_file(\n",
    "                  self.config.s3_bucket_name, \n",
    "                  self.config.s3_file_key,\n",
    "                  self.config.local_data_file)\n",
    "              logger.info(f\"File {self.config.file_key} downloaded successfully from S3 bucket{self.config.bucket_name}!\")\n",
    "          else:\n",
    "              logger.info(f\"File already exists of size: {get_size(Path(self.config.local_data_file))}\")\"\"\"   \n",
    "\n",
    "    def copy_file(self):\n",
    "\n",
    "        if not os.path.exists(self.config.local_data_file):\n",
    "            with open(self.config.source_PATH, 'rb') as src, open(self.config.local_data_file, 'wb') as dst:\n",
    "                src_mmap = mmap.mmap(src.fileno(), 0, access=mmap.ACCESS_READ)\n",
    "                dst.write(src_mmap)\n",
    "                src_mmap.close()\n",
    "\n",
    "            logger.info(f\"File copied from {self.config.source_PATH} to {self.config.local_data_file}\")\n",
    "\n",
    "\n",
    "    def extract_zip_files(self):\n",
    "\n",
    "        \"\"\"\n",
    "        zip_file_path:str\n",
    "        Extract the zip file into the data directory\n",
    "        function returns None\n",
    "        \"\"\"\n",
    "        unzip_path=self.config.unzip_dir\n",
    "        os.makedirs(unzip_path, exist_ok=True)\n",
    "\n",
    "        with zipfile.ZipFile(self.config.local_data_file, \"r\") as zip_ref:\n",
    "            zip_ref.extractall(unzip_path)"
   ]
  },
  {
   "cell_type": "code",
   "execution_count": 54,
   "metadata": {},
   "outputs": [
    {
     "data": {
      "text/plain": [
       "'try:\\n    config=ConfigurationManager()\\n    data_ingestion_config=config.get_data_ingestion_config()\\n    data_ingestion=DataIngestion(config=data_ingestion_config)\\n    data_ingestion.download_file()\\n    data_ingestion.extract_zip_files()\\n\\nexcept Exception as e:\\n    raise e\\n    '"
      ]
     },
     "execution_count": 54,
     "metadata": {},
     "output_type": "execute_result"
    }
   ],
   "source": [
    "# if you intend to download the file from a url\n",
    "\"\"\"try:\n",
    "    config=ConfigurationManager()\n",
    "    data_ingestion_config=config.get_data_ingestion_config()\n",
    "    data_ingestion=DataIngestion(config=data_ingestion_config)\n",
    "    data_ingestion.download_file()\n",
    "    data_ingestion.extract_zip_files()\n",
    "\n",
    "except Exception as e:\n",
    "    raise e\n",
    "    \"\"\""
   ]
  },
  {
   "cell_type": "code",
   "execution_count": 55,
   "metadata": {},
   "outputs": [
    {
     "name": "stdout",
     "output_type": "stream",
     "text": [
      "[2025-04-12 15:29:07,211: INFO: common: yaml file: (path_to_yaml) loaded successfully]\n",
      "[2025-04-12 15:29:07,221: INFO: common: yaml file: (path_to_yaml) loaded successfully]\n",
      "[2025-04-12 15:29:07,228: INFO: common: created a directory at : artifacts]\n",
      "[2025-04-12 15:29:07,234: INFO: common: created a directory at : artifacts/data_ingestion]\n",
      "[2025-04-12 15:43:20,267: INFO: <ipython-input-53-6bdb4a664f34>: File copied from C:/Users/MAINGATE/Downloads/Maize_leaf_dataset.zip to artifacts/data_ingestion/data.zip]\n"
     ]
    }
   ],
   "source": [
    "try:\n",
    "    config=ConfigurationManager()\n",
    "    data_ingestion_config=config.get_data_ingestion_config()\n",
    "    data_ingestion= DataIngestion(config=data_ingestion_config)\n",
    "    data_ingestion.copy_file()\n",
    "    data_ingestion.extract_zip_files()\n",
    "\n",
    "except Exception as e:\n",
    "    raise e"
   ]
  },
  {
   "cell_type": "code",
   "execution_count": null,
   "metadata": {},
   "outputs": [],
   "source": []
  },
  {
   "cell_type": "code",
   "execution_count": null,
   "metadata": {},
   "outputs": [],
   "source": []
  },
  {
   "cell_type": "code",
   "execution_count": null,
   "metadata": {},
   "outputs": [],
   "source": []
  }
 ],
 "metadata": {
  "kernelspec": {
   "display_name": "Python 3",
   "language": "python",
   "name": "python3"
  },
  "language_info": {
   "codemirror_mode": {
    "name": "ipython",
    "version": 3
   },
   "file_extension": ".py",
   "mimetype": "text/x-python",
   "name": "python",
   "nbconvert_exporter": "python",
   "pygments_lexer": "ipython3",
   "version": "3.7.4"
  },
  "orig_nbformat": 4
 },
 "nbformat": 4,
 "nbformat_minor": 2
}
