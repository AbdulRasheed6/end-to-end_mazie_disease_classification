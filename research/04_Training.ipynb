{
 "cells": [
  {
   "cell_type": "code",
   "execution_count": 1,
   "id": "83ba4b16",
   "metadata": {},
   "outputs": [],
   "source": [
    "import os"
   ]
  },
  {
   "cell_type": "code",
   "execution_count": 2,
   "id": "75b3acc5",
   "metadata": {},
   "outputs": [
    {
     "data": {
      "text/plain": [
       "'c:\\\\Users\\\\MAINGATE\\\\DEsktop\\\\Maize_disease_classification\\\\end-to-end_mazie_disease_classification\\\\research'"
      ]
     },
     "execution_count": 2,
     "metadata": {},
     "output_type": "execute_result"
    }
   ],
   "source": [
    "%pwd"
   ]
  },
  {
   "cell_type": "code",
   "execution_count": 3,
   "id": "5d3f4e73",
   "metadata": {},
   "outputs": [],
   "source": [
    "os.chdir('../')"
   ]
  },
  {
   "cell_type": "code",
   "execution_count": 4,
   "id": "02b2ac1b",
   "metadata": {},
   "outputs": [
    {
     "data": {
      "text/plain": [
       "'c:\\\\Users\\\\MAINGATE\\\\DEsktop\\\\Maize_disease_classification\\\\end-to-end_mazie_disease_classification'"
      ]
     },
     "execution_count": 4,
     "metadata": {},
     "output_type": "execute_result"
    }
   ],
   "source": [
    "%pwd"
   ]
  },
  {
   "cell_type": "code",
   "execution_count": 5,
   "id": "3c788404",
   "metadata": {},
   "outputs": [],
   "source": [
    "from dataclasses import dataclass\n",
    "from pathlib import Path\n",
    "\n",
    "\n",
    "@dataclass\n",
    "class TrainingConfig:\n",
    "    root_dir: Path\n",
    "    trained_model_path: Path\n",
    "    base_model_path: Path\n",
    "    training_data: Path\n",
    "    params_epochs: int\n",
    "    params_batch_size: int\n",
    "    params_is_augmentation: bool\n",
    "    params_image_size: tuple\n",
    "\n",
    "\n",
    "@dataclass(frozen=True)\n",
    "class PrepareCallbacksConfig:\n",
    "    root_dir : Path\n",
    "    tensorboard_root_log_dir: Path\n",
    "    checkpoint_model_filepath: Path\n",
    "\n",
    "\n"
   ]
  },
  {
   "cell_type": "code",
   "execution_count": 6,
   "id": "ac7aec68",
   "metadata": {},
   "outputs": [
    {
     "name": "stdout",
     "output_type": "stream",
     "text": [
      "[2025-05-05 23:51:08,686: WARNING: module_wrapper: From c:\\Users\\MAINGATE\\.conda\\envs\\maize\\lib\\site-packages\\tf_keras\\src\\losses.py:2976: The name tf.losses.sparse_softmax_cross_entropy is deprecated. Please use tf.compat.v1.losses.sparse_softmax_cross_entropy instead.\n",
      "]\n"
     ]
    }
   ],
   "source": [
    "from cnnClassifier.constants import *\n",
    "from cnnClassifier.utils.common import read_yaml, create_directories\n",
    "import tf_keras as tf\n",
    "import ast\n"
   ]
  },
  {
   "cell_type": "code",
   "execution_count": 18,
   "id": "98f5e203",
   "metadata": {},
   "outputs": [],
   "source": [
    "class ConfigurationManager:\n",
    "    def __init__(\n",
    "        self,\n",
    "        config_filepath= CONFIG_FILE_PATH,\n",
    "        params_filepath= PARAMS_FILE_PATH):\n",
    "\n",
    "        self.config= read_yaml(config_filepath)\n",
    "        self.params= read_yaml(params_filepath)\n",
    "\n",
    "        create_directories([self.config.artifacts_root])\n",
    "    \n",
    "\n",
    "    def get_prepare_callback_config(self) -> PrepareCallbacksConfig:\n",
    "        config= self.config.prepare_callbacks\n",
    "\n",
    "        model_ckpt_dir=os.path.dirname(config.checkpoint_model_filepath)\n",
    "\n",
    "        create_directories([\n",
    "            Path(model_ckpt_dir),\n",
    "            Path(config.tensorboard_root_log_dir)\n",
    "        ])\n",
    "\n",
    "\n",
    "        prepare_callback_config= PrepareCallbacksConfig(\n",
    "            root_dir= Path(config.root_dir),\n",
    "            tensorboard_root_log_dir= Path(config.tensorboard_root_log_dir),\n",
    "            checkpoint_model_filepath= Path(config.checkpoint_model_filepath)\n",
    "\n",
    "        )\n",
    "        \n",
    "        return prepare_callback_config\n",
    "\n",
    "\n",
    "\n",
    "    \n",
    "    def get_training_config(self) -> TrainingConfig:\n",
    "        training= self.config.training\n",
    "        prepare_base_model= self.config.prepare_base_model\n",
    "        params= self.params\n",
    "        training_data= os.path.join(self.config.data_ingestion.unzip_dir, \"Maize_leaf_dataset\")\n",
    "        create_directories([\n",
    "            Path(training.root_dir)\n",
    "        ])\n",
    "\n",
    "\n",
    "        training_config= TrainingConfig(\n",
    "            root_dir = Path(training.root_dir),\n",
    "            trained_model_path= Path(training.trained_model_path),\n",
    "            base_model_path= Path(prepare_base_model.base_model_path),\n",
    "            training_data= Path(training_data),\n",
    "            params_epochs= params.EPOCHS,\n",
    "            params_batch_size=params.BATCH_SIZE,\n",
    "            params_is_augmentation=params.AUGMENTATION,\n",
    "            params_image_size= ast.literal_eval(params.IMAGE_SIZE)\n",
    "        )\n",
    "\n",
    "        return training_config"
   ]
  },
  {
   "cell_type": "code",
   "execution_count": 8,
   "id": "f841ffb9",
   "metadata": {},
   "outputs": [],
   "source": [
    "import time"
   ]
  },
  {
   "cell_type": "code",
   "execution_count": 19,
   "id": "01121596",
   "metadata": {},
   "outputs": [],
   "source": [
    "class PrepareCallback:\n",
    "    def __init__(self, config:PrepareCallbacksConfig):\n",
    "        self.config= config\n",
    "\n",
    "\n",
    "\n",
    "\n",
    "    @property\n",
    "    def _create_tb_callbacks(self):\n",
    "        timestamp=time.strftime(\"%Y-%m-%d-%H-%M-%S\")\n",
    "        tb_running_log_dir=os.path.join(\n",
    "            self.config.tensorboard_root_log_dir,\n",
    "            f\"tb_logs_at_{timestamp}\",\n",
    "        )\n",
    "        return tf.callbacks.TensorBoard(log_dir=tb_running_log_dir)\n",
    "\n",
    "\n",
    "    @property\n",
    "    def _create_ckpt_callbacks(self):\n",
    "        return tf.callbacks.ModelCheckpoint(\n",
    "            filepath= str(self.config.checkpoint_model_filepath),\n",
    "            save_best_only= True\n",
    "        )\n",
    "\n",
    "\n",
    "    def get_tb_ckpt_callbacks(self):\n",
    "        return [ \n",
    "            self._create_tb_callbacks,\n",
    "            self._create_ckpt_callbacks\n",
    "        ]\n"
   ]
  },
  {
   "cell_type": "code",
   "execution_count": 20,
   "id": "7da07f67",
   "metadata": {},
   "outputs": [],
   "source": [
    "class Training:\n",
    "    def __init__(self, config: TrainingConfig):\n",
    "        self.config=config\n",
    "\n",
    "    \n",
    "    def get_base_model(self):\n",
    "        self.model=tf.models.load_model(\n",
    "            self.config.base_model_path\n",
    "        )\n",
    "\n",
    "    \n",
    "    def train_valid_generator(self):\n",
    "        datagenerator_kwargs= dict(\n",
    "            rescale= 1./255,\n",
    "            validation_split=0.20\n",
    "        )\n",
    "        print(\"params_image_size =\", self.config.params_image_size)\n",
    "\n",
    "\n",
    "        dataflow_kwargs= dict(\n",
    "            target_size= self.config.params_image_size[:2],\n",
    "            batch_size= self.config.params_batch_size,\n",
    "            interpolation= \"bilinear\"\n",
    "        )\n",
    "\n",
    "\n",
    "        valid_datagenerator= tf.preprocessing.image.ImageDataGenerator(\n",
    "            **datagenerator_kwargs\n",
    "        )\n",
    "\n",
    "        self.valid_generator=valid_datagenerator.flow_from_directory(\n",
    "            directory=self.config.training_data,\n",
    "            subset= \"validation\",\n",
    "            shuffle=False,\n",
    "            **dataflow_kwargs\n",
    "        )\n",
    "\n",
    "        if self.config.params_is_augmentation:\n",
    "            train_datagenerator= tf.preprocessing.image.ImageDataGenerator(\n",
    "                rotation_range=40,\n",
    "                horizontal_flip= True,\n",
    "                width_shift_range= 0.2,\n",
    "                height_shift_range=0.2,\n",
    "                shear_range=0.2,\n",
    "                zoom_range= 0.2,\n",
    "                **datagenerator_kwargs\n",
    "            )\n",
    "\n",
    "        else:\n",
    "            train_datagenerator= valid_datagenerator\n",
    "\n",
    "        \n",
    "        self.train_generator= train_datagenerator.flow_from_directory(\n",
    "            directory=self.config.training_data,\n",
    "            subset= \"training\",\n",
    "            shuffle=True,\n",
    "            **dataflow_kwargs\n",
    "        )\n",
    "\n",
    "    \n",
    "    @staticmethod\n",
    "    def save_model(path: Path, model:tf.Model):\n",
    "        model.save(path)\n",
    "\n",
    "\n",
    "    def train(self, callback_list:list):\n",
    "        self.steps_per_epoch= self.train_generator.samples // self.train_generator.batch_size\n",
    "        self.validation_steps= self.valid_generator.samples // self.valid_generator.batch_size\n",
    "\n",
    "        self.model.fit(\n",
    "            self.train_generator,\n",
    "            epochs= self.config.params_epochs,\n",
    "            steps_per_epoch= self.steps_per_epoch,\n",
    "            validation_steps=self.validation_steps,\n",
    "            validation_data= self.valid_generator,\n",
    "            callbacks= callback_list\n",
    "        )\n",
    "\n",
    "        self.save_model(\n",
    "            path= self.config.trained_model_path,\n",
    "            model=self.model\n",
    "        )"
   ]
  },
  {
   "cell_type": "code",
   "execution_count": null,
   "id": "e536aefb",
   "metadata": {},
   "outputs": [
    {
     "name": "stdout",
     "output_type": "stream",
     "text": [
      "[2025-05-06 00:00:36,147: INFO: common: yaml file: (path_to_yaml) loaded successfully]\n",
      "[2025-05-06 00:00:36,188: INFO: common: yaml file: (path_to_yaml) loaded successfully]\n",
      "[2025-05-06 00:00:36,202: INFO: common: created a directory at : artifacts]\n",
      "[2025-05-06 00:00:36,213: INFO: common: created a directory at : artifacts\\prepare_callbacks\\tensorboard_log_dir]\n",
      "[2025-05-06 00:00:36,226: INFO: common: created a directory at : artifacts\\training]\n"
     ]
    },
    {
     "name": "stdout",
     "output_type": "stream",
     "text": [
      "params_image_size = (224, 224, 3)\n",
      "Found 1870 images belonging to 3 classes.\n",
      "Found 7486 images belonging to 3 classes.\n",
      "Epoch 1/16\n",
      "[2025-05-06 00:06:19,424: WARNING: module_wrapper: From c:\\Users\\MAINGATE\\.conda\\envs\\maize\\lib\\site-packages\\tensorflow\\python\\autograph\\converters\\directives.py:126: The name tf.ragged.RaggedTensorValue is deprecated. Please use tf.compat.v1.ragged.RaggedTensorValue instead.\n",
      "]\n",
      " 71/233 [========>.....................] - ETA: 57:27 - loss: 0.2922 - accuracy: 0.8890"
     ]
    }
   ],
   "source": [
    "try:\n",
    "    config= ConfigurationManager()\n",
    "    prepare_callbacks_config=config.get_prepare_callback_config()\n",
    "    prepare_callbacks= PrepareCallback(config=prepare_callbacks_config)\n",
    "    callback_list= prepare_callbacks.get_tb_ckpt_callbacks()\n",
    "\n",
    "    training_config= config.get_training_config()\n",
    "    training= Training(config= training_config)\n",
    "    training.get_base_model()\n",
    "    training.train_valid_generator()\n",
    "    training.train(\n",
    "        callback_list=callback_list\n",
    "    )\n",
    "\n",
    "except Exception as e:\n",
    "    raise e"
   ]
  },
  {
   "cell_type": "code",
   "execution_count": null,
   "id": "4c55591e",
   "metadata": {},
   "outputs": [
    {
     "ename": "NameError",
     "evalue": "name 'self' is not defined",
     "output_type": "error",
     "traceback": [
      "\u001b[1;31m---------------------------------------------------------------------------\u001b[0m",
      "\u001b[1;31mNameError\u001b[0m                                 Traceback (most recent call last)",
      "Cell \u001b[1;32mIn[13], line 1\u001b[0m\n\u001b[1;32m----> 1\u001b[0m \u001b[38;5;28;43mself\u001b[39;49m\u001b[38;5;241m.\u001b[39mconfig\u001b[38;5;241m.\u001b[39mbase_model_path\n",
      "\u001b[1;31mNameError\u001b[0m: name 'self' is not defined"
     ]
    }
   ],
   "source": []
  },
  {
   "cell_type": "code",
   "execution_count": null,
   "id": "4bea67bd",
   "metadata": {},
   "outputs": [],
   "source": []
  }
 ],
 "metadata": {
  "kernelspec": {
   "display_name": "Python 3",
   "language": "python",
   "name": "python3"
  },
  "language_info": {
   "codemirror_mode": {
    "name": "ipython",
    "version": 3
   },
   "file_extension": ".py",
   "mimetype": "text/x-python",
   "name": "python",
   "nbconvert_exporter": "python",
   "pygments_lexer": "ipython3",
   "version": "3.9.21"
  }
 },
 "nbformat": 4,
 "nbformat_minor": 5
}
